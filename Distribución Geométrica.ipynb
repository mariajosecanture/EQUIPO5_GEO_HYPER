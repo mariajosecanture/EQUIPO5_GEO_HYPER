{
 "cells": [
  {
   "cell_type": "markdown",
   "metadata": {},
   "source": [
    "<img style=\"float: left; margin: 30px 15px 15px 15px;\" src=\"https://pngimage.net/wp-content/uploads/2018/06/logo-iteso-png-5.png\" width=\"300\" height=\"500\" /> \n",
    "    \n",
    "    \n",
    "### <font color='navy'> Simulación de procesos financieros. \n",
    "\n",
    "**Nombres:** Maria Jose Cantu, Andrés Green, y Juan Pablo R\n",
    "\n",
    "**Fecha:** 30 de septiembre del 2020.\n",
    "\n",
    "**Expediente** : if708916 \n",
    "    \n",
    "**Profesor:** Oscar David Jaramillo Zuluaga.\n",
    "\n",
    "**LINK TAREA:** https://github.com/Sofiagarciaif/Tarea4_MCantu_SGarcia.git\n",
    "\n",
    "## Proyecto: Distribución Geométrica y Distribución Secante Hiperbólica"
   ]
  },
  {
   "cell_type": "markdown",
   "metadata": {},
   "source": [
    "## <font color='navy'> Distribución Geométrica"
   ]
  },
  {
   "cell_type": "markdown",
   "metadata": {},
   "source": [
    "La distribución geométrica es la distribución de probabilidad discretas de cualquiera de estas dos:\n",
    "1. La distribución de probabilidad del número “X” en una prueba de Bernoulli que se necesitan para obtener un éxito del espacio {1, 2, 3, …}\n",
    "\n",
    "\n",
    "2. La distribución de probabilidad  del número Y = X - 1 de fracasos antes del primer éxito en el espacio {0, 1, 2, 3, …}\n",
    "Nosotros tomaremos la primera para nuestra tarea, ya que al parecer es la que es usada normalmente cuando se está hablando de distribución geométrica. \n",
    "\n",
    "\n",
    "Está distribución de probabilidad discreta está representada por la función de probabilidad de densidad: \n",
    ">$$f(x)=(1-P)^{x-1} *P$$ </font>"
   ]
  },
  {
   "cell_type": "markdown",
   "metadata": {},
   "source": [
    "La distribución geométrica tiene 3 suposiciones: \n",
    "- Hay solo dos resultados para cada prueba: éxito o fracaso.\n",
    "- Las pruebas son independientes.\n",
    "- La probabilidad de éxito es igual para cada prueba.\n"
   ]
  },
  {
   "cell_type": "markdown",
   "metadata": {},
   "source": [
    "Por ejemplo, se quiere saber cuánta gente votó por Anaya en el ITESO. Se realiza una  entrevista a personas al azar y el número de personas que fueron entrevistadas antes de que se encontrará una que votó por Anaya representa la distribución geométrica de la prueba. Si tuviste que preguntarle a 4 personas, x es igual a 4, si fue a 5, x = 5, etc. Esto significa, como se mencionó antes, que habría X-1 de fracasos antes de que se obtenga el primer éxito.\n",
    "\n",
    "Si hacemos que X sea igual a n, tenemos que el éxito fue encontrado en el intento “n” y se fracasó por n - 1 intentos. Si la probabilidad de éxito es p, entonces la probabilidad de fracaso en tu primer intento es 1 - p. Como sabemos que los eventos son independientes, podemos multiplicar las probabilidades para poder encontrar la probabilidad de no tener éxito en el segundo intento y en los próximos intentos. Para encontrar la probabilidad de fracaso en intento “n”, tenemos la fórmula de (1-p)^n-1.  Entonces, si se tuvo éxito en el cuarto intento tenemos que n = 4, y que n-1 = 3, que nos da que la probabilidad de fracaso hasta ese punto está dada por (1-p) (1-p) (1-p) = (1-p)^3\n",
    "\n",
    "Para programar esto en python usamos numpy.random.geometric, que nos programa esta función automáticamente: \n",
    "\n"
   ]
  },
  {
   "cell_type": "code",
   "execution_count": null,
   "metadata": {},
   "outputs": [],
   "source": []
  },
  {
   "cell_type": "markdown",
   "metadata": {},
   "source": [
    "## <font color='navy'> Distribución Secante Hiperbólica"
   ]
  },
  {
   "cell_type": "markdown",
   "metadata": {},
   "source": [
    "La distribución secante hiperbólica es una distribución de probabilidad continua cuya función de densidad de probabilidad y función característica son proporcionales a la función secante hiperbólica . La función secante hiperbólica es equivalente al coseno hiperbólico recíproco y, por tanto, esta distribución también se denomina distribución cosh inversa . \n",
    "\n",
    "La generalización de la distribución da lugar a la distribución de Meixner , también conocida como Familia Exponencial Natural - Secante Hiperbólico Generalizado o distribución NEF-GHS distribution."
   ]
  },
  {
   "cell_type": "markdown",
   "metadata": {},
   "source": [
    "Una variable aleatoria sigue una distribución secante hiperbólica si su función de densidad de probabilidad (pdf) se puede relacionar con la siguiente forma estándar de función de densidad mediante una transformación de ubicación y desplazamiento: \n",
    "\n",
    ">$$f(x)=\\frac{1}{2}sech(\\frac{\\pi}{2}x)$$ </font>\n",
    "\n",
    "donde \"sech\" denota la función secante hiperbólica. La función de distribución acumulativa (CDF) de la distribución estándar es una versión escalada y desplazada de la función de Gudermann\n",
    "\n",
    ">$$F(x)=\\frac{1}{2}+\\frac{1}{\\pi}arctan(sinh(\\frac{\\pi}{2}x))$$ </font>\n",
    "\n",
    ", donde \"arctan\" es la función tangente inversa (circular) . La CDF inversa (o función cuantílica) es\n",
    "\n",
    ">$$F^{-1}(p)=\\frac{-2}{\\pi}arcsinh(cot(\\pi p))$$,\n",
    "$$= \\frac{2}{\\pi} ln(tan(\\frac{\\pi}{2}p)$$ </font>\n",
    "\n",
    "donde \"arcsinh\" es la función seno hiperbólico inversa y \"cot\" es la función cotangente (circular) . \n",
    "\n",
    "La distribución secante hiperbólica comparte muchas propiedades con la distribución normal estándar : es simétrica con la varianza unitaria y media cero , mediana y moda , y su función de densidad media es proporcional a su función característica. Sin embargo, la distribución secante hiperbólica es leptocúrtica ; es decir, tiene un pico más agudo cerca de su media y colas más pesadas, en comparación con la distribución normal estándar. Johnson y col. (1995) coloca esta distribución en el contexto de una clase de formas generalizadas de la distribución logística , pero utilizan una parametrización diferente de la distribución estándar en comparación con la aquí. Ding (2014) muestra tres ocurrencias de la distribución secante hiperbólica en el modelado estadístico y la inferencia."
   ]
  },
  {
   "cell_type": "markdown",
   "metadata": {},
   "source": [
    "https://es.qaz.wiki/wiki/Hyperbolic_secant_distribution#:~:text=En%20teor%C3%ADa%20de%20probabilidad%20y,a%20la%20funci%C3%B3n%20secante%20hiperb%C3%B3lica%20."
   ]
  }
 ],
 "metadata": {
  "kernelspec": {
   "display_name": "Python 3",
   "language": "python",
   "name": "python3"
  },
  "language_info": {
   "codemirror_mode": {
    "name": "ipython",
    "version": 3
   },
   "file_extension": ".py",
   "mimetype": "text/x-python",
   "name": "python",
   "nbconvert_exporter": "python",
   "pygments_lexer": "ipython3",
   "version": "3.8.3"
  }
 },
 "nbformat": 4,
 "nbformat_minor": 4
}
