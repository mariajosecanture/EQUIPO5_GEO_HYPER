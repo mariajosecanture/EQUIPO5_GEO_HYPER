{
 "cells": [
  {
   "cell_type": "markdown",
   "metadata": {},
   "source": [
    "<img style=\"float: left; margin: 30px 15px 15px 15px;\" src=\"https://pngimage.net/wp-content/uploads/2018/06/logo-iteso-png-5.png\" width=\"300\" height=\"500\" /> \n",
    "    \n",
    "    \n",
    "### <font color='navy'> Simulación de procesos financieros. \n",
    "\n",
    "**Nombres:** Maria Jose Cantu, Andrés Green, y Juan Pablo R\n",
    "\n",
    "**Fecha:** 30 de septiembre del 2020.\n",
    "\n",
    "**Expediente** : if708916 \n",
    "    \n",
    "**Profesor:** Oscar David Jaramillo Zuluaga.\n",
    "\n",
    "**LINK TAREA:** https://github.com/Sofiagarciaif/Tarea4_MCantu_SGarcia.git\n",
    "\n",
    "## Proyecto: Distribución Geométrica y Distribución Secante Hiperbólica"
   ]
  },
  {
   "cell_type": "markdown",
   "metadata": {},
   "source": [
    "## <font color='navy'> Distribución Geométrica"
   ]
  },
  {
   "cell_type": "markdown",
   "metadata": {},
   "source": [
    "La distribución geométrica es la distribución de probabilidad discretas de cualquiera de estas dos:\n",
    "1. La distribución de probabilidad del número “X” en una prueba de Bernoulli que se necesitan para obtener un éxito del espacio {1, 2, 3, …}\n",
    "\n",
    "\n",
    "2. La distribución de probabilidad  del número Y = X - 1 de fracasos antes del primer éxito en el espacio {0, 1, 2, 3, …}\n",
    "Nosotros tomaremos la primera para nuestra tarea, ya que al parecer es la que es usada normalmente cuando se está hablando de distribución geométrica. \n",
    "\n",
    "Esta distribución de probabilidad discreta está representada por la función de probabilidad de densidad: \n"
   ]
  }
 ],
 "metadata": {
  "kernelspec": {
   "display_name": "Python 3",
   "language": "python",
   "name": "python3"
  },
  "language_info": {
   "codemirror_mode": {
    "name": "ipython",
    "version": 3
   },
   "file_extension": ".py",
   "mimetype": "text/x-python",
   "name": "python",
   "nbconvert_exporter": "python",
   "pygments_lexer": "ipython3",
   "version": "3.8.3"
  }
 },
 "nbformat": 4,
 "nbformat_minor": 4
}
